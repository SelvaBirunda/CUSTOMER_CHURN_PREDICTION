{
  "nbformat": 4,
  "nbformat_minor": 0,
  "metadata": {
    "colab": {
      "provenance": []
    },
    "kernelspec": {
      "name": "python3",
      "display_name": "Python 3"
    },
    "language_info": {
      "name": "python"
    }
  },
  "cells": [
    {
      "cell_type": "code",
      "execution_count": 4,
      "metadata": {
        "colab": {
          "base_uri": "https://localhost:8080/"
        },
        "id": "O8X9rPgr7be6",
        "outputId": "0dde841b-6401-4a37-ad7e-354a98d6cc6f"
      },
      "outputs": [
        {
          "output_type": "stream",
          "name": "stdout",
          "text": [
            "Accuracy: 0.867\n",
            "\n",
            "Classification Report:\n",
            "              precision    recall  f1-score   support\n",
            "\n",
            "           0       0.88      0.97      0.92      1607\n",
            "           1       0.77      0.46      0.58       393\n",
            "\n",
            "    accuracy                           0.87      2000\n",
            "   macro avg       0.83      0.71      0.75      2000\n",
            "weighted avg       0.86      0.87      0.85      2000\n",
            "\n"
          ]
        }
      ],
      "source": [
        "import pandas as pd\n",
        "from sklearn.model_selection import train_test_split\n",
        "from sklearn.ensemble import RandomForestClassifier\n",
        "from sklearn.metrics import accuracy_score, classification_report\n",
        "from sklearn.preprocessing import LabelEncoder, StandardScaler\n",
        "\n",
        "# Load the historical customer data\n",
        "data = pd.read_csv(\"Churn_Modelling.csv\")\n",
        "\n",
        "# Drop unnecessary columns (e.g., RowNumber, CustomerId, Surname)\n",
        "data = data.drop(columns=[\"RowNumber\", \"CustomerId\", \"Surname\"])\n",
        "\n",
        "# Encode categorical variables (Geography and Gender)\n",
        "label_encoder = LabelEncoder()\n",
        "data['Geography'] = label_encoder.fit_transform(data['Geography'])\n",
        "data['Gender'] = label_encoder.fit_transform(data['Gender'])\n",
        "\n",
        "# Separate features (X) and target variable (y)\n",
        "X = data.drop(columns=['Exited'])\n",
        "y = data['Exited']\n",
        "\n",
        "# Split the dataset into training and testing sets (80% training, 20% testing)\n",
        "X_train, X_test, y_train, y_test = train_test_split(X, y, test_size=0.2, random_state=42)\n",
        "\n",
        "# Standardize numerical features\n",
        "scaler = StandardScaler()\n",
        "X_train_scaled = scaler.fit_transform(X_train)\n",
        "X_test_scaled = scaler.transform(X_test)\n",
        "\n",
        "# Initialize Random Forest classifier\n",
        "random_forest_classifier = RandomForestClassifier()\n",
        "\n",
        "# Train the classifier\n",
        "random_forest_classifier.fit(X_train_scaled, y_train)\n",
        "\n",
        "# Predict on the testing data\n",
        "y_pred = random_forest_classifier.predict(X_test_scaled)\n",
        "\n",
        "# Evaluate the model\n",
        "accuracy = accuracy_score(y_test, y_pred)\n",
        "print(\"Accuracy:\", accuracy)\n",
        "print(\"\\nClassification Report:\")\n",
        "print(classification_report(y_test, y_pred))\n"
      ]
    },
    {
      "cell_type": "code",
      "source": [],
      "metadata": {
        "id": "9YqXlLO7_OjH"
      },
      "execution_count": null,
      "outputs": []
    }
  ]
}